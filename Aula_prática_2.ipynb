{
  "nbformat": 4,
  "nbformat_minor": 0,
  "metadata": {
    "colab": {
      "provenance": [],
      "authorship_tag": "ABX9TyOy6f4nge9rW70n+D0ffv34",
      "include_colab_link": true
    },
    "kernelspec": {
      "name": "python3",
      "display_name": "Python 3"
    },
    "language_info": {
      "name": "python"
    }
  },
  "cells": [
    {
      "cell_type": "markdown",
      "metadata": {
        "id": "view-in-github",
        "colab_type": "text"
      },
      "source": [
        "<a href=\"https://colab.research.google.com/github/maya985/bootstrap/blob/main/Aula_pr%C3%A1tica_2.ipynb\" target=\"_parent\"><img src=\"https://colab.research.google.com/assets/colab-badge.svg\" alt=\"Open In Colab\"/></a>"
      ]
    },
    {
      "cell_type": "code",
      "execution_count": 4,
      "metadata": {
        "colab": {
          "base_uri": "https://localhost:8080/"
        },
        "id": "ULGSq3ffYCwr",
        "outputId": "7e6469cd-7e13-4cdf-e663-0d6aa85c65ec"
      },
      "outputs": [
        {
          "output_type": "stream",
          "name": "stdout",
          "text": [
            "Olá, mundo!\n"
          ]
        }
      ],
      "source": [
        "nome = 'Olá, mundo!'\n",
        "print(nome)\n"
      ]
    },
    {
      "cell_type": "markdown",
      "source": [
        "# Exercício 1"
      ],
      "metadata": {
        "id": "QMDagBRrigeA"
      }
    },
    {
      "cell_type": "code",
      "source": [
        "##Criar um algoritmo que solicite ao usuário o preço de um produto e um percentual de desconto a ser aplicado a ele. Calcule e exiba o valor do desconto e o preço final do produto.\n",
        "\n",
        "preco = float(input('Digite o preço do produto:'))\n",
        "p = float(input('Digite o percentual de desconto (0-100)%:'))\n",
        "\n",
        "desconto = preco * (p/100)\n",
        "final = preco - desconto\n",
        "\n",
        "print('O preço do produto é {}. Desconto de {}%.'.format(preco, p))\n",
        "print('O valor calculado do desconto {}. Valor final do produto: {}'.format(desconto, final))\n"
      ],
      "metadata": {
        "colab": {
          "base_uri": "https://localhost:8080/"
        },
        "id": "hwsdbjOVVbPu",
        "outputId": "67fb38bc-74c7-48e7-f95d-c9f5966ed466"
      },
      "execution_count": 14,
      "outputs": [
        {
          "output_type": "stream",
          "name": "stdout",
          "text": [
            "Digite o preço do produto:100\n",
            "Digite o percentual de desconto (0-100)%:50\n",
            "O preço do produto é 100.0. Desconto de 50.0%.\n",
            "O valor calculado do desconto 50.0. Valor final do produto: 50.0\n"
          ]
        }
      ]
    },
    {
      "cell_type": "markdown",
      "source": [
        "#Exercício 2"
      ],
      "metadata": {
        "id": "cJJDYgTPjf1Z"
      }
    },
    {
      "cell_type": "code",
      "source": [
        "##Escreva um programa que pergunte a quantidade de km percorridos por um carro alugado pelo usuário, assim como a quantidade de dias pelos quais o carro foi alugado. Calcule o preço a pagar, sabendo que o carro custa R$60 por dia e R$0,15 por km rodado.\n",
        "\n",
        "km = int(input('Quantos km foram percorridos:'))\n",
        "dias = int(input('Por quantos dias ele foi alugado:'))\n",
        "\n",
        "preco = 60 * dias + 0.15 * km\n",
        "print('Km = {}. Dias: {}'.format(km, dias))\n",
        "print('Valor a ser pago: {}'.format(preco))"
      ],
      "metadata": {
        "colab": {
          "base_uri": "https://localhost:8080/"
        },
        "id": "XjNEsQzTjpw4",
        "outputId": "362eea87-e336-41f0-88d5-bc305799ded7"
      },
      "execution_count": 18,
      "outputs": [
        {
          "output_type": "stream",
          "name": "stdout",
          "text": [
            "Quantos km foram percorridos:100\n",
            "Por quantos dias ele foi alugado:5\n",
            "Km = 100. Dias: 5\n",
            "Valor a ser pago: 315.0\n"
          ]
        }
      ]
    },
    {
      "cell_type": "markdown",
      "source": [
        "#Exercício 3"
      ],
      "metadata": {
        "id": "zMGvdHVbmX7N"
      }
    },
    {
      "cell_type": "code",
      "source": [
        "##Crie uma variável de string que receba uma frase qualquer. Crie uma segunda variável, agora contendo a metade da string digitada. Imprima na tela somente os dois últimos caracteres da segunda variável do tipo string.\n",
        "\n",
        "frase = input('Digite uma frase:')\n",
        "tam = len(frase)\n",
        "\n",
        "frase2 = frase[:int(tam/2)]\n",
        "print(frase2[-2:])\n"
      ],
      "metadata": {
        "colab": {
          "base_uri": "https://localhost:8080/"
        },
        "id": "hpwbfyZGmdNs",
        "outputId": "23da1a3d-9c33-47ba-92c4-e88bf1cee77b"
      },
      "execution_count": 23,
      "outputs": [
        {
          "output_type": "stream",
          "name": "stdout",
          "text": [
            "Digite uma frase:Deus\n",
            "De\n"
          ]
        }
      ]
    }
  ]
}